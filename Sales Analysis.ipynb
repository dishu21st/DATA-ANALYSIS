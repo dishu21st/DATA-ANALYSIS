{
 "cells": [
  {
   "cell_type": "code",
   "execution_count": 1,
   "id": "4e2f5164",
   "metadata": {},
   "outputs": [],
   "source": [
    "import pandas as pd\n",
    "import numpy as np\n",
    "import matplotlib.pyplot as plt\n",
    "import seaborn as sns\n"
   ]
  },
  {
   "cell_type": "code",
   "execution_count": 2,
   "id": "ecae6833",
   "metadata": {},
   "outputs": [
    {
     "data": {
      "text/html": [
       "<div>\n",
       "<style scoped>\n",
       "    .dataframe tbody tr th:only-of-type {\n",
       "        vertical-align: middle;\n",
       "    }\n",
       "\n",
       "    .dataframe tbody tr th {\n",
       "        vertical-align: top;\n",
       "    }\n",
       "\n",
       "    .dataframe thead th {\n",
       "        text-align: right;\n",
       "    }\n",
       "</style>\n",
       "<table border=\"1\" class=\"dataframe\">\n",
       "  <thead>\n",
       "    <tr style=\"text-align: right;\">\n",
       "      <th></th>\n",
       "      <th>Order_ID</th>\n",
       "      <th>Order_Priority</th>\n",
       "      <th>Order_Quantity</th>\n",
       "      <th>Sales</th>\n",
       "      <th>Ship_Mode</th>\n",
       "      <th>Profit</th>\n",
       "      <th>Customer_Name</th>\n",
       "      <th>Region</th>\n",
       "      <th>Customer_Segment</th>\n",
       "      <th>Product_Category</th>\n",
       "      <th>Product_Sub-Category</th>\n",
       "      <th>Product_Name</th>\n",
       "      <th>Product_Container</th>\n",
       "    </tr>\n",
       "  </thead>\n",
       "  <tbody>\n",
       "    <tr>\n",
       "      <th>0</th>\n",
       "      <td>643</td>\n",
       "      <td>High</td>\n",
       "      <td>21</td>\n",
       "      <td>2781.82</td>\n",
       "      <td>Express Air</td>\n",
       "      <td>-695.26</td>\n",
       "      <td>Monica Federle</td>\n",
       "      <td>Nunavut</td>\n",
       "      <td>Corporate</td>\n",
       "      <td>Office Supplies</td>\n",
       "      <td>Storage &amp; Organization</td>\n",
       "      <td>SAFCO Commercial Wire Shelving, Black</td>\n",
       "      <td>Large Box</td>\n",
       "    </tr>\n",
       "    <tr>\n",
       "      <th>1</th>\n",
       "      <td>8995</td>\n",
       "      <td>High</td>\n",
       "      <td>35</td>\n",
       "      <td>3389.93</td>\n",
       "      <td>Express Air</td>\n",
       "      <td>737.94</td>\n",
       "      <td>Beth Paige</td>\n",
       "      <td>Northwest Territories</td>\n",
       "      <td>Consumer</td>\n",
       "      <td>Furniture</td>\n",
       "      <td>Office Furnishings</td>\n",
       "      <td>Luxo Professional Combination Clamp-On Lamps</td>\n",
       "      <td>Large Box</td>\n",
       "    </tr>\n",
       "    <tr>\n",
       "      <th>2</th>\n",
       "      <td>9127</td>\n",
       "      <td>Not Specified</td>\n",
       "      <td>7</td>\n",
       "      <td>2039.56</td>\n",
       "      <td>Express Air</td>\n",
       "      <td>-329.49</td>\n",
       "      <td>Bryan Davis</td>\n",
       "      <td>Northwest Territories</td>\n",
       "      <td>Corporate</td>\n",
       "      <td>Office Supplies</td>\n",
       "      <td>Storage &amp; Organization</td>\n",
       "      <td>Tennsco Snap-Together Open Shelving Units, Sta...</td>\n",
       "      <td>Large Box</td>\n",
       "    </tr>\n",
       "    <tr>\n",
       "      <th>3</th>\n",
       "      <td>26272</td>\n",
       "      <td>Low</td>\n",
       "      <td>6</td>\n",
       "      <td>905.94</td>\n",
       "      <td>Express Air</td>\n",
       "      <td>-4.19</td>\n",
       "      <td>Carlos Daly</td>\n",
       "      <td>Northwest Territories</td>\n",
       "      <td>Home Office</td>\n",
       "      <td>Furniture</td>\n",
       "      <td>Chairs &amp; Chairmats</td>\n",
       "      <td>Hon Olson Stacker Stools</td>\n",
       "      <td>Large Box</td>\n",
       "    </tr>\n",
       "    <tr>\n",
       "      <th>4</th>\n",
       "      <td>36646</td>\n",
       "      <td>Medium</td>\n",
       "      <td>24</td>\n",
       "      <td>1168.15</td>\n",
       "      <td>Express Air</td>\n",
       "      <td>-743.96</td>\n",
       "      <td>Muhammed MacIntyre</td>\n",
       "      <td>Northwest Territories</td>\n",
       "      <td>Small Business</td>\n",
       "      <td>Office Supplies</td>\n",
       "      <td>Storage &amp; Organization</td>\n",
       "      <td>Tennsco Industrial Shelving</td>\n",
       "      <td>Large Box</td>\n",
       "    </tr>\n",
       "  </tbody>\n",
       "</table>\n",
       "</div>"
      ],
      "text/plain": [
       "   Order_ID Order_Priority  Order_Quantity    Sales    Ship_Mode  Profit  \\\n",
       "0       643           High              21  2781.82  Express Air -695.26   \n",
       "1      8995           High              35  3389.93  Express Air  737.94   \n",
       "2      9127  Not Specified               7  2039.56  Express Air -329.49   \n",
       "3     26272            Low               6   905.94  Express Air   -4.19   \n",
       "4     36646         Medium              24  1168.15  Express Air -743.96   \n",
       "\n",
       "        Customer_Name                 Region Customer_Segment  \\\n",
       "0      Monica Federle                Nunavut        Corporate   \n",
       "1          Beth Paige  Northwest Territories         Consumer   \n",
       "2         Bryan Davis  Northwest Territories        Corporate   \n",
       "3         Carlos Daly  Northwest Territories      Home Office   \n",
       "4  Muhammed MacIntyre  Northwest Territories   Small Business   \n",
       "\n",
       "  Product_Category    Product_Sub-Category  \\\n",
       "0  Office Supplies  Storage & Organization   \n",
       "1        Furniture      Office Furnishings   \n",
       "2  Office Supplies  Storage & Organization   \n",
       "3        Furniture      Chairs & Chairmats   \n",
       "4  Office Supplies  Storage & Organization   \n",
       "\n",
       "                                        Product_Name Product_Container  \n",
       "0              SAFCO Commercial Wire Shelving, Black         Large Box  \n",
       "1       Luxo Professional Combination Clamp-On Lamps         Large Box  \n",
       "2  Tennsco Snap-Together Open Shelving Units, Sta...         Large Box  \n",
       "3                           Hon Olson Stacker Stools         Large Box  \n",
       "4                        Tennsco Industrial Shelving         Large Box  "
      ]
     },
     "execution_count": 2,
     "metadata": {},
     "output_type": "execute_result"
    }
   ],
   "source": [
    "df = pd.read_csv(\"Salesstore.csv\")\n",
    "df.head()"
   ]
  },
  {
   "cell_type": "code",
   "execution_count": 3,
   "id": "460bf74f",
   "metadata": {},
   "outputs": [
    {
     "data": {
      "text/plain": [
       "(730, 13)"
      ]
     },
     "execution_count": 3,
     "metadata": {},
     "output_type": "execute_result"
    }
   ],
   "source": [
    "df.shape"
   ]
  },
  {
   "cell_type": "code",
   "execution_count": 4,
   "id": "32d08dfe",
   "metadata": {},
   "outputs": [
    {
     "data": {
      "text/plain": [
       "Order_ID                0\n",
       "Order_Priority          0\n",
       "Order_Quantity          0\n",
       "Sales                   0\n",
       "Ship_Mode               0\n",
       "Profit                  0\n",
       "Customer_Name           0\n",
       "Region                  0\n",
       "Customer_Segment        0\n",
       "Product_Category        0\n",
       "Product_Sub-Category    0\n",
       "Product_Name            0\n",
       "Product_Container       0\n",
       "dtype: int64"
      ]
     },
     "execution_count": 4,
     "metadata": {},
     "output_type": "execute_result"
    }
   ],
   "source": [
    "df.isnull().sum()"
   ]
  },
  {
   "cell_type": "code",
   "execution_count": 5,
   "id": "e2d4d1ed",
   "metadata": {},
   "outputs": [
    {
     "data": {
      "text/html": [
       "<div>\n",
       "<style scoped>\n",
       "    .dataframe tbody tr th:only-of-type {\n",
       "        vertical-align: middle;\n",
       "    }\n",
       "\n",
       "    .dataframe tbody tr th {\n",
       "        vertical-align: top;\n",
       "    }\n",
       "\n",
       "    .dataframe thead th {\n",
       "        text-align: right;\n",
       "    }\n",
       "</style>\n",
       "<table border=\"1\" class=\"dataframe\">\n",
       "  <thead>\n",
       "    <tr style=\"text-align: right;\">\n",
       "      <th></th>\n",
       "      <th>Order_ID</th>\n",
       "      <th>Order_Priority</th>\n",
       "      <th>Order_Quantity</th>\n",
       "      <th>Sales</th>\n",
       "      <th>Ship_Mode</th>\n",
       "      <th>Profit</th>\n",
       "      <th>Customer_Name</th>\n",
       "      <th>Region</th>\n",
       "      <th>Customer_Segment</th>\n",
       "      <th>Product_Category</th>\n",
       "      <th>Product_Sub-Category</th>\n",
       "      <th>Product_Name</th>\n",
       "      <th>Product_Container</th>\n",
       "    </tr>\n",
       "  </thead>\n",
       "  <tbody>\n",
       "    <tr>\n",
       "      <th>725</th>\n",
       "      <td>56101</td>\n",
       "      <td>Not Specified</td>\n",
       "      <td>44</td>\n",
       "      <td>5347.13</td>\n",
       "      <td>Regular Air</td>\n",
       "      <td>1886.41</td>\n",
       "      <td>Bill Donatelli</td>\n",
       "      <td>Ontario</td>\n",
       "      <td>Corporate</td>\n",
       "      <td>Office Supplies</td>\n",
       "      <td>Binders and Binder Accessories</td>\n",
       "      <td>GBC Therma-A-Bind 250T Electric Binding System</td>\n",
       "      <td>Small Box</td>\n",
       "    </tr>\n",
       "    <tr>\n",
       "      <th>726</th>\n",
       "      <td>1059</td>\n",
       "      <td>Critical</td>\n",
       "      <td>22</td>\n",
       "      <td>127.33</td>\n",
       "      <td>Regular Air</td>\n",
       "      <td>5.30</td>\n",
       "      <td>Sean O'Donnell</td>\n",
       "      <td>Ontario</td>\n",
       "      <td>Corporate</td>\n",
       "      <td>Office Supplies</td>\n",
       "      <td>Binders and Binder Accessories</td>\n",
       "      <td>Wilson Jones 14 Line Acrylic Coated Pressboard...</td>\n",
       "      <td>Small Box</td>\n",
       "    </tr>\n",
       "    <tr>\n",
       "      <th>727</th>\n",
       "      <td>1059</td>\n",
       "      <td>Critical</td>\n",
       "      <td>24</td>\n",
       "      <td>990.10</td>\n",
       "      <td>Regular Air</td>\n",
       "      <td>310.22</td>\n",
       "      <td>Sean O'Donnell</td>\n",
       "      <td>Ontario</td>\n",
       "      <td>Corporate</td>\n",
       "      <td>Office Supplies</td>\n",
       "      <td>Binders and Binder Accessories</td>\n",
       "      <td>Wilson Jones Ledger-Size, Piano-Hinge Binder, ...</td>\n",
       "      <td>Small Box</td>\n",
       "    </tr>\n",
       "    <tr>\n",
       "      <th>728</th>\n",
       "      <td>1826</td>\n",
       "      <td>Not Specified</td>\n",
       "      <td>5</td>\n",
       "      <td>28.32</td>\n",
       "      <td>Regular Air</td>\n",
       "      <td>-14.35</td>\n",
       "      <td>Susan Vittorini</td>\n",
       "      <td>Ontario</td>\n",
       "      <td>Corporate</td>\n",
       "      <td>Office Supplies</td>\n",
       "      <td>Paper</td>\n",
       "      <td>Hammermill CopyPlus Copy Paper (20Lb. and 84 B...</td>\n",
       "      <td>Small Box</td>\n",
       "    </tr>\n",
       "    <tr>\n",
       "      <th>729</th>\n",
       "      <td>20003</td>\n",
       "      <td>Medium</td>\n",
       "      <td>39</td>\n",
       "      <td>796.08</td>\n",
       "      <td>Regular Air</td>\n",
       "      <td>30.29</td>\n",
       "      <td>Shirley Schmidt</td>\n",
       "      <td>Ontario</td>\n",
       "      <td>Corporate</td>\n",
       "      <td>Technology</td>\n",
       "      <td>Computer Peripherals</td>\n",
       "      <td>Belkin 105-Key Black Keyboard</td>\n",
       "      <td>Small Box</td>\n",
       "    </tr>\n",
       "  </tbody>\n",
       "</table>\n",
       "</div>"
      ],
      "text/plain": [
       "     Order_ID Order_Priority  Order_Quantity    Sales    Ship_Mode   Profit  \\\n",
       "725     56101  Not Specified              44  5347.13  Regular Air  1886.41   \n",
       "726      1059       Critical              22   127.33  Regular Air     5.30   \n",
       "727      1059       Critical              24   990.10  Regular Air   310.22   \n",
       "728      1826  Not Specified               5    28.32  Regular Air   -14.35   \n",
       "729     20003         Medium              39   796.08  Regular Air    30.29   \n",
       "\n",
       "       Customer_Name   Region Customer_Segment Product_Category  \\\n",
       "725   Bill Donatelli  Ontario        Corporate  Office Supplies   \n",
       "726   Sean O'Donnell  Ontario        Corporate  Office Supplies   \n",
       "727   Sean O'Donnell  Ontario        Corporate  Office Supplies   \n",
       "728  Susan Vittorini  Ontario        Corporate  Office Supplies   \n",
       "729  Shirley Schmidt  Ontario        Corporate       Technology   \n",
       "\n",
       "               Product_Sub-Category  \\\n",
       "725  Binders and Binder Accessories   \n",
       "726  Binders and Binder Accessories   \n",
       "727  Binders and Binder Accessories   \n",
       "728                           Paper   \n",
       "729            Computer Peripherals   \n",
       "\n",
       "                                          Product_Name Product_Container  \n",
       "725     GBC Therma-A-Bind 250T Electric Binding System         Small Box  \n",
       "726  Wilson Jones 14 Line Acrylic Coated Pressboard...         Small Box  \n",
       "727  Wilson Jones Ledger-Size, Piano-Hinge Binder, ...         Small Box  \n",
       "728  Hammermill CopyPlus Copy Paper (20Lb. and 84 B...         Small Box  \n",
       "729                      Belkin 105-Key Black Keyboard         Small Box  "
      ]
     },
     "execution_count": 5,
     "metadata": {},
     "output_type": "execute_result"
    }
   ],
   "source": [
    "df.tail()"
   ]
  },
  {
   "cell_type": "code",
   "execution_count": 6,
   "id": "59b7d944",
   "metadata": {},
   "outputs": [
    {
     "name": "stdout",
     "output_type": "stream",
     "text": [
      "<class 'pandas.core.frame.DataFrame'>\n",
      "RangeIndex: 730 entries, 0 to 729\n",
      "Data columns (total 13 columns):\n",
      " #   Column                Non-Null Count  Dtype  \n",
      "---  ------                --------------  -----  \n",
      " 0   Order_ID              730 non-null    int64  \n",
      " 1   Order_Priority        730 non-null    object \n",
      " 2   Order_Quantity        730 non-null    int64  \n",
      " 3   Sales                 730 non-null    float64\n",
      " 4   Ship_Mode             730 non-null    object \n",
      " 5   Profit                730 non-null    float64\n",
      " 6   Customer_Name         730 non-null    object \n",
      " 7   Region                730 non-null    object \n",
      " 8   Customer_Segment      730 non-null    object \n",
      " 9   Product_Category      730 non-null    object \n",
      " 10  Product_Sub-Category  730 non-null    object \n",
      " 11  Product_Name          730 non-null    object \n",
      " 12  Product_Container     730 non-null    object \n",
      "dtypes: float64(2), int64(2), object(9)\n",
      "memory usage: 74.3+ KB\n"
     ]
    }
   ],
   "source": [
    "df.info()"
   ]
  },
  {
   "cell_type": "code",
   "execution_count": 7,
   "id": "f0d6c67b",
   "metadata": {},
   "outputs": [
    {
     "data": {
      "text/html": [
       "<div>\n",
       "<style scoped>\n",
       "    .dataframe tbody tr th:only-of-type {\n",
       "        vertical-align: middle;\n",
       "    }\n",
       "\n",
       "    .dataframe tbody tr th {\n",
       "        vertical-align: top;\n",
       "    }\n",
       "\n",
       "    .dataframe thead th {\n",
       "        text-align: right;\n",
       "    }\n",
       "</style>\n",
       "<table border=\"1\" class=\"dataframe\">\n",
       "  <thead>\n",
       "    <tr style=\"text-align: right;\">\n",
       "      <th></th>\n",
       "      <th>count</th>\n",
       "      <th>mean</th>\n",
       "      <th>std</th>\n",
       "      <th>min</th>\n",
       "      <th>25%</th>\n",
       "      <th>50%</th>\n",
       "      <th>75%</th>\n",
       "      <th>max</th>\n",
       "    </tr>\n",
       "  </thead>\n",
       "  <tbody>\n",
       "    <tr>\n",
       "      <th>Order_ID</th>\n",
       "      <td>730.0</td>\n",
       "      <td>29721.597260</td>\n",
       "      <td>17350.560439</td>\n",
       "      <td>35.00</td>\n",
       "      <td>14479.000000</td>\n",
       "      <td>29350.500</td>\n",
       "      <td>44978.500</td>\n",
       "      <td>59909.00</td>\n",
       "    </tr>\n",
       "    <tr>\n",
       "      <th>Order_Quantity</th>\n",
       "      <td>730.0</td>\n",
       "      <td>24.857534</td>\n",
       "      <td>14.182970</td>\n",
       "      <td>1.00</td>\n",
       "      <td>13.000000</td>\n",
       "      <td>25.000</td>\n",
       "      <td>37.000</td>\n",
       "      <td>50.00</td>\n",
       "    </tr>\n",
       "    <tr>\n",
       "      <th>Sales</th>\n",
       "      <td>730.0</td>\n",
       "      <td>1502.777653</td>\n",
       "      <td>2893.936648</td>\n",
       "      <td>8.60</td>\n",
       "      <td>171.098375</td>\n",
       "      <td>438.700</td>\n",
       "      <td>1480.855</td>\n",
       "      <td>27663.92</td>\n",
       "    </tr>\n",
       "    <tr>\n",
       "      <th>Profit</th>\n",
       "      <td>730.0</td>\n",
       "      <td>207.479233</td>\n",
       "      <td>878.631028</td>\n",
       "      <td>-4437.91</td>\n",
       "      <td>-77.132500</td>\n",
       "      <td>0.035</td>\n",
       "      <td>180.000</td>\n",
       "      <td>8417.57</td>\n",
       "    </tr>\n",
       "  </tbody>\n",
       "</table>\n",
       "</div>"
      ],
      "text/plain": [
       "                count          mean           std      min           25%  \\\n",
       "Order_ID        730.0  29721.597260  17350.560439    35.00  14479.000000   \n",
       "Order_Quantity  730.0     24.857534     14.182970     1.00     13.000000   \n",
       "Sales           730.0   1502.777653   2893.936648     8.60    171.098375   \n",
       "Profit          730.0    207.479233    878.631028 -4437.91    -77.132500   \n",
       "\n",
       "                      50%        75%       max  \n",
       "Order_ID        29350.500  44978.500  59909.00  \n",
       "Order_Quantity     25.000     37.000     50.00  \n",
       "Sales             438.700   1480.855  27663.92  \n",
       "Profit              0.035    180.000   8417.57  "
      ]
     },
     "execution_count": 7,
     "metadata": {},
     "output_type": "execute_result"
    }
   ],
   "source": [
    "df.describe().T"
   ]
  },
  {
   "cell_type": "code",
   "execution_count": 8,
   "id": "613088e5",
   "metadata": {},
   "outputs": [],
   "source": [
    "#  Droping columns:\n",
    "df = df.drop(columns=[\"Product_Name\",'Product_Sub-Category'])"
   ]
  },
  {
   "cell_type": "code",
   "execution_count": 9,
   "id": "dfba379d",
   "metadata": {},
   "outputs": [
    {
     "data": {
      "text/plain": [
       "Index(['Order_ID', 'Order_Priority', 'Order_Quantity', 'Sales', 'Ship_Mode',\n",
       "       'Profit', 'Customer_Name', 'Region', 'Customer_Segment',\n",
       "       'Product_Category', 'Product_Container'],\n",
       "      dtype='object')"
      ]
     },
     "execution_count": 9,
     "metadata": {},
     "output_type": "execute_result"
    }
   ],
   "source": [
    "df.columns"
   ]
  },
  {
   "cell_type": "code",
   "execution_count": 10,
   "id": "df89d594",
   "metadata": {},
   "outputs": [
    {
     "data": {
      "text/plain": [
       "(730, 11)"
      ]
     },
     "execution_count": 10,
     "metadata": {},
     "output_type": "execute_result"
    }
   ],
   "source": [
    "df.shape"
   ]
  },
  {
   "cell_type": "markdown",
   "id": "8b5cf3f7",
   "metadata": {},
   "source": [
    "PerForming  EDA  "
   ]
  },
  {
   "cell_type": "code",
   "execution_count": 11,
   "id": "7edb4acd",
   "metadata": {},
   "outputs": [
    {
     "data": {
      "text/plain": [
       "Order_Priority\n",
       "Not Specified    156\n",
       "High             152\n",
       "Low              147\n",
       "Critical         147\n",
       "Medium           128\n",
       "Name: count, dtype: int64"
      ]
     },
     "execution_count": 11,
     "metadata": {},
     "output_type": "execute_result"
    }
   ],
   "source": [
    "df['Order_Priority'].value_counts()"
   ]
  },
  {
   "cell_type": "code",
   "execution_count": 12,
   "id": "a8a9d704",
   "metadata": {},
   "outputs": [
    {
     "data": {
      "image/png": "[encoded data removed]",
      "text/plain": [
       "<Figure size 500x400 with 1 Axes>"
      ]
     },
     "metadata": {},
     "output_type": "display_data"
    }
   ],
   "source": [
    "plt.figure(figsize=(5,4))\n",
    "sns.countplot(x='Order_Priority',data = df, palette = \"Set2\")\n",
    "plt.title('Count of Order Priority')\n",
    "plt.show()"
   ]
  },
  {
   "cell_type": "markdown",
   "id": "3f45c75b",
   "metadata": {},
   "source": [
    "# Shipping Mode Analysis"
   ]
  },
  {
   "cell_type": "code",
   "execution_count": 13,
   "id": "730f8a0b",
   "metadata": {},
   "outputs": [
    {
     "data": {
      "text/plain": [
       "Ship_Mode\n",
       "Regular Air    579\n",
       "Express Air    151\n",
       "Name: count, dtype: int64"
      ]
     },
     "execution_count": 13,
     "metadata": {},
     "output_type": "execute_result"
    }
   ],
   "source": [
    "df['Ship_Mode'].value_counts()"
   ]
  },
  {
   "cell_type": "code",
   "execution_count": 14,
   "id": "315b6db5",
   "metadata": {},
   "outputs": [
    {
     "data": {
      "image/png": "[encoded data removed]",
      "text/plain": [
       "<Figure size 300x300 with 1 Axes>"
      ]
     },
     "metadata": {},
     "output_type": "display_data"
    }
   ],
   "source": [
    "plt.figure(figsize=(3,3))\n",
    "sns.countplot(x='Ship_Mode',data = df,palette = \"Set2\")\n",
    "plt.title('Shiping MODE')\n",
    "plt.show()"
   ]
  },
  {
   "cell_type": "markdown",
   "id": "f95f78de",
   "metadata": {},
   "source": [
    "  Most Of the orders are going thru the Regular Air"
   ]
  },
  {
   "cell_type": "code",
   "execution_count": 15,
   "id": "a3881800",
   "metadata": {},
   "outputs": [
    {
     "data": {
      "image/png": "[encoded data removed]",
      "text/plain": [
       "<Figure size 500x400 with 1 Axes>"
      ]
     },
     "metadata": {},
     "output_type": "display_data"
    }
   ],
   "source": [
    "plt.figure(figsize=(5,4))\n",
    "sns.countplot(x='Ship_Mode',data = df, hue =\"Product_Category\", palette = \"Set2\")\n",
    "plt.title('Shiping MODE')\n",
    "plt.show()"
   ]
  },
  {
   "cell_type": "markdown",
   "id": "d990e4f1",
   "metadata": {},
   "source": [
    "Highest selling Products are Office Supllies.Store management should provide some offer to customers to increase sales rate of Fruniture and Technology."
   ]
  },
  {
   "cell_type": "markdown",
   "id": "0967ceaf",
   "metadata": {},
   "source": [
    "# Region:"
   ]
  },
  {
   "cell_type": "code",
   "execution_count": 16,
   "id": "dcb433d9",
   "metadata": {},
   "outputs": [
    {
     "data": {
      "text/plain": [
       "Region\n",
       "West                     232\n",
       "Atlantic                 170\n",
       "Northwest Territories    150\n",
       "Prarie                    79\n",
       "Ontario                   67\n",
       "Nunavut                   32\n",
       "Name: count, dtype: int64"
      ]
     },
     "execution_count": 16,
     "metadata": {},
     "output_type": "execute_result"
    }
   ],
   "source": [
    "df['Region'].value_counts()"
   ]
  },
  {
   "cell_type": "code",
   "execution_count": 17,
   "id": "ab74968f",
   "metadata": {},
   "outputs": [],
   "source": [
    "x = df['Region'].value_counts().index\n",
    "y = df['Region'].value_counts().values"
   ]
  },
  {
   "cell_type": "code",
   "execution_count": 18,
   "id": "42efc01c",
   "metadata": {},
   "outputs": [
    {
     "data": {
      "image/png": "[encoded data removed]",
      "text/plain": [
       "<Figure size 500x300 with 1 Axes>"
      ]
     },
     "metadata": {},
     "output_type": "display_data"
    }
   ],
   "source": [
    "plt.figure(figsize=(5,3))\n",
    "plt.pie(y,labels=x,autopct='%0.2f%%')\n",
    "plt.show()"
   ]
  },
  {
   "cell_type": "markdown",
   "id": "9cf163e4",
   "metadata": {},
   "source": [
    "The customers from West region purchasing most of the products."
   ]
  },
  {
   "cell_type": "markdown",
   "id": "5525755d",
   "metadata": {},
   "source": [
    "# Customer segment"
   ]
  },
  {
   "cell_type": "code",
   "execution_count": 19,
   "id": "198c872f",
   "metadata": {},
   "outputs": [],
   "source": [
    "x = df['Customer_Segment'].value_counts().index\n",
    "y = df['Customer_Segment'].value_counts().values"
   ]
  },
  {
   "cell_type": "code",
   "execution_count": 20,
   "id": "88829d28",
   "metadata": {},
   "outputs": [
    {
     "data": {
      "image/png": "[encoded data removed]",
      "text/plain": [
       "<Figure size 500x400 with 1 Axes>"
      ]
     },
     "metadata": {},
     "output_type": "display_data"
    }
   ],
   "source": [
    "plt.figure(figsize=(5,4))\n",
    "sns.countplot(x='Customer_Segment',data = df,palette = \"Set2\")\n",
    "plt.title('Customer_Segment')\n",
    "plt.show()"
   ]
  },
  {
   "cell_type": "markdown",
   "id": "0fb8151a",
   "metadata": {},
   "source": [
    "Last Analysis is  showing the most of the customer are belongs to Corpotate Fie"
   ]
  }
 ],
 "metadata": {
  "kernelspec": {
   "display_name": "Python 3 (ipykernel)",
   "language": "python",
   "name": "python3"
  },
  "language_info": {
   "codemirror_mode": {
    "name": "ipython",
    "version": 3
   },
   "file_extension": ".py",
   "mimetype": "text/x-python",
   "name": "python",
   "nbconvert_exporter": "python",
   "pygments_lexer": "ipython3",
   "version": "3.11.5"
  }
 },
 "nbformat": 4,
 "nbformat_minor": 5
}
